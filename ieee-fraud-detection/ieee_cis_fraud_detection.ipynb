{
  "cells": [
    {
      "cell_type": "markdown",
      "source": [
        "### 📦 Setup: Kaggle + AutoGluon Environment\n",
        "This first cell authenticates Kaggle using my `kaggle.json`, installs the slim `autogluon.tabular` package, and downloads the **IEEE-CIS Fraud Detection** dataset.  \n",
        "It extracts the data into `/content/data/ieee-fraud-detection` and prepares a save path for AutoGluon models."
      ],
      "metadata": {
        "id": "6AnDU_C-m9Ew"
      }
    },
    {
      "cell_type": "code",
      "execution_count": 1,
      "metadata": {
        "colab": {
          "base_uri": "https://localhost:8080/"
        },
        "id": "MsopWGGbZrSI",
        "outputId": "5a464f7a-e6af-4a68-c6cf-5a8b68de3f98"
      },
      "outputs": [
        {
          "output_type": "stream",
          "name": "stdout",
          "text": [
            "Competition: ieee-fraud-detection\n",
            "DATA_DIR: /content/data\n",
            "AUTOGLUON_SAVE_PATH: /content/data/AutoGluonModels\n",
            "Mounted at /content/drive\n",
            "Downloading ieee-fraud-detection.zip to /content/data\n",
            "  0% 0.00/118M [00:00<?, ?B/s]\n",
            "100% 118M/118M [00:00<00:00, 1.34GB/s]\n",
            "total 1.3G\n",
            "-rw-r--r-- 1 root root 5.8M Dec 11  2019 sample_submission.csv\n",
            "-rw-r--r-- 1 root root  25M Dec 11  2019 test_identity.csv\n",
            "-rw-r--r-- 1 root root 585M Dec 11  2019 test_transaction.csv\n",
            "-rw-r--r-- 1 root root  26M Dec 11  2019 train_identity.csv\n",
            "-rw-r--r-- 1 root root 652M Dec 11  2019 train_transaction.csv\n"
          ]
        }
      ],
      "source": [
        "# --- Colab setup: Kaggle competition + AutoGluon Tabular ---\n",
        "import os\n",
        "\n",
        "# ---- CONFIG ----\n",
        "KAGGLE_COMPETITION = \"ieee-fraud-detection\"\n",
        "DATA_DIR = \"/content/data\"\n",
        "DATASET = os.path.join(DATA_DIR, KAGGLE_COMPETITION)\n",
        "AUTOGLUON_SAVE_PATH = os.path.join(DATA_DIR, \"AutoGluonModels\")\n",
        "\n",
        "print(\"Competition:\", KAGGLE_COMPETITION)\n",
        "print(\"DATA_DIR:\", DATA_DIR)\n",
        "print(\"AUTOGLUON_SAVE_PATH:\", AUTOGLUON_SAVE_PATH)\n",
        "\n",
        "# ---- Install slim AutoGluon + Kaggle CLI ----\n",
        "!pip install -q kaggle autogluon.tabular\n",
        "\n",
        "# ---- Kaggle auth (assumes kaggle.json exists in Google Drive) ----\n",
        "from google.colab import drive\n",
        "drive.mount('/content/drive', force_remount=True)\n",
        "\n",
        "!mkdir -p ~/.kaggle\n",
        "!cp /content/drive/MyDrive/kaggle.json ~/.kaggle/\n",
        "!chmod 600 ~/.kaggle/kaggle.json\n",
        "\n",
        "# ---- Download + extract competition files ----\n",
        "!mkdir -p \"{DATA_DIR}\" \"{AUTOGLUON_SAVE_PATH}\"\n",
        "!kaggle competitions download -c \"{KAGGLE_COMPETITION}\" -p \"{DATA_DIR}\" --force\n",
        "!unzip -o -q \"{DATA_DIR}/{KAGGLE_COMPETITION}.zip\" -d \"{DATA_DIR}/{KAGGLE_COMPETITION}\"\n",
        "!rm -f \"{DATA_DIR}/{KAGGLE_COMPETITION}.zip\"\n",
        "!ls -lh \"{DATA_DIR}/{KAGGLE_COMPETITION}\""
      ]
    },
    {
      "cell_type": "markdown",
      "source": [
        "### ⚡ Fast Training on 20 K Sample with Feature Alignment\n",
        "Here I merge the `train_transaction` and `train_identity` files, sample **20 000 rows** for quick runtime, and apply minimal preprocessing: drop `TransactionID`, fill missing objects with `\"NA\"` and numbers with `-999`, and cast `isFraud` to int.  \n",
        "AutoGluon trains a **single LightGBM model** with a short time limit.  \n",
        "Before prediction, I align the test dataset to the model’s exact feature set—adding any missing columns like `id_01`–`id_38`—so inference runs smoothly.  \n",
        "The notebook then writes predictions to `submission.csv`."
      ],
      "metadata": {
        "id": "Kbr61IXqnA5q"
      }
    },
    {
      "cell_type": "code",
      "execution_count": 2,
      "metadata": {
        "colab": {
          "base_uri": "https://localhost:8080/"
        },
        "id": "a_qysFqh-Lvw",
        "outputId": "07e9dd09-b5ea-47fb-8288-508ed8c97780"
      },
      "outputs": [
        {
          "output_type": "stream",
          "name": "stdout",
          "text": [
            "Full train shape: (590540, 434)\n"
          ]
        },
        {
          "output_type": "stream",
          "name": "stderr",
          "text": [
            "Verbosity: 2 (Standard Logging)\n",
            "=================== System Info ===================\n",
            "AutoGluon Version:  1.4.0\n",
            "Python Version:     3.12.12\n",
            "Operating System:   Linux\n",
            "Platform Machine:   x86_64\n",
            "Platform Version:   #1 SMP Thu Oct  2 10:42:05 UTC 2025\n",
            "CPU Count:          8\n",
            "Memory Avail:       47.36 GB / 50.99 GB (92.9%)\n",
            "Disk Space Avail:   183.02 GB / 225.83 GB (81.0%)\n",
            "===================================================\n",
            "No presets specified! To achieve strong results with AutoGluon, it is recommended to use the available presets. Defaulting to `'medium'`...\n",
            "\tRecommended Presets (For more details refer to https://auto.gluon.ai/stable/tutorials/tabular/tabular-essentials.html#presets):\n",
            "\tpresets='extreme' : New in v1.4: Massively better than 'best' on datasets <30000 samples by using new models meta-learned on https://tabarena.ai: TabPFNv2, TabICL, Mitra, and TabM. Absolute best accuracy. Requires a GPU. Recommended 64 GB CPU memory and 32+ GB GPU memory.\n",
            "\tpresets='best'    : Maximize accuracy. Recommended for most users. Use in competitions and benchmarks.\n",
            "\tpresets='high'    : Strong accuracy with fast inference speed.\n",
            "\tpresets='good'    : Good accuracy with very fast inference speed.\n",
            "\tpresets='medium'  : Fast training time, ideal for initial prototyping.\n",
            "Beginning AutoGluon training ... Time limit = 300s\n",
            "AutoGluon will save models to \"/content/data/AutoGluonModels/ieee_fraud_20251014_181753\"\n",
            "Train Data Rows:    20000\n",
            "Train Data Columns: 432\n",
            "Label Column:       isFraud\n",
            "AutoGluon infers your prediction problem is: 'binary' (because only two unique label-values observed).\n",
            "\t2 unique label values:  [np.int8(0), np.int8(1)]\n",
            "\tIf 'binary' is not the correct problem_type, please manually specify the problem_type parameter during Predictor init (You may specify problem_type as one of: ['binary', 'multiclass', 'regression', 'quantile'])\n",
            "Problem Type:       binary\n",
            "Preprocessing data ...\n",
            "Selected class <--> label mapping:  class 1 = 1, class 0 = 0\n",
            "Using Feature Generators to preprocess the data ...\n",
            "Fitting AutoMLPipelineFeatureGenerator...\n",
            "\tAvailable Memory:                    48583.99 MB\n",
            "\tTrain Data (Original)  Memory Usage: 91.79 MB (0.2% of available memory)\n",
            "\tInferring data type of each feature based on column values. Set feature_metadata_in to manually specify special dtypes of the features.\n",
            "\tStage 1 Generators:\n",
            "\t\tFitting AsTypeFeatureGenerator...\n",
            "\t\t\tNote: Converting 1 features to boolean dtype as they only contain 2 unique values.\n",
            "\tStage 2 Generators:\n",
            "\t\tFitting FillNaFeatureGenerator...\n",
            "\tStage 3 Generators:\n",
            "\t\tFitting IdentityFeatureGenerator...\n",
            "\t\tFitting CategoryFeatureGenerator...\n",
            "\t\t\tFitting CategoryMemoryMinimizeFeatureGenerator...\n",
            "\tStage 4 Generators:\n",
            "\t\tFitting DropUniqueFeatureGenerator...\n",
            "\tStage 5 Generators:\n",
            "\t\tFitting DropDuplicatesFeatureGenerator...\n",
            "\tUseless Original Features (Count: 1): ['V305']\n",
            "\t\tThese features carry no predictive signal and should be manually investigated.\n",
            "\t\tThis is typically a feature which has the same value for all rows.\n",
            "\t\tThese features do not need to be present at inference time.\n",
            "\tUnused Original Features (Count: 2): ['V163', 'V241']\n",
            "\t\tThese features were not used to generate any of the output features. Add a feature generator compatible with these features to utilize them.\n",
            "\t\tFeatures can also be unused if they carry very little information, such as being categorical but having almost entirely unique values or being duplicates of other features.\n",
            "\t\tThese features do not need to be present at inference time.\n",
            "\t\t('float', []) : 2 | ['V163', 'V241']\n",
            "\tTypes of features in original data (raw dtype, special dtypes):\n",
            "\t\t('float', [])  : 396 | ['TransactionAmt', 'card2', 'card3', 'card5', 'addr1', ...]\n",
            "\t\t('int', [])    :   2 | ['TransactionDT', 'card1']\n",
            "\t\t('object', []) :  31 | ['ProductCD', 'card4', 'card6', 'P_emaildomain', 'R_emaildomain', ...]\n",
            "\tTypes of features in processed data (raw dtype, special dtypes):\n",
            "\t\t('category', [])  :  31 | ['ProductCD', 'card4', 'card6', 'P_emaildomain', 'R_emaildomain', ...]\n",
            "\t\t('float', [])     : 395 | ['TransactionAmt', 'card2', 'card3', 'card5', 'addr1', ...]\n",
            "\t\t('int', [])       :   2 | ['TransactionDT', 'card1']\n",
            "\t\t('int', ['bool']) :   1 | ['V1']\n",
            "\t3.9s = Fit runtime\n",
            "\t429 features in original data used to generate 429 features in processed data.\n",
            "\tTrain Data (Processed) Memory Usage: 61.22 MB (0.1% of available memory)\n",
            "Data preprocessing and feature engineering runtime = 4.07s ...\n",
            "AutoGluon will gauge predictive performance using evaluation metric: 'roc_auc'\n",
            "\tThis metric expects predicted probabilities rather than predicted class labels, so you'll need to use predict_proba() instead of predict()\n",
            "\tTo change this, specify the eval_metric parameter of Predictor()\n",
            "Automatically generating train/validation split with holdout_frac=0.1, Train Rows: 18000, Val Rows: 2000\n",
            "User-specified model hyperparameters to be fit:\n",
            "{\n",
            "\t'GBM': [{'num_boost_round': 300, 'learning_rate': 0.1, 'num_leaves': 31, 'min_data_in_leaf': 200}],\n",
            "\t'CAT': [],\n",
            "\t'XGB': [],\n",
            "\t'RF': [],\n",
            "\t'XT': [],\n",
            "\t'NN_TORCH': [],\n",
            "}\n",
            "Fitting 1 L1 models, fit_strategy=\"sequential\" ...\n",
            "Fitting model: LightGBM ... Training model for up to 295.93s of the 295.93s of remaining time.\n",
            "\tFitting with cpus=4, gpus=0, mem=0.4/47.3 GB\n",
            "\t0.9238\t = Validation score   (roc_auc)\n",
            "\t6.7s\t = Training   runtime\n",
            "\t0.02s\t = Validation runtime\n",
            "Fitting model: WeightedEnsemble_L2 ... Training model for up to 295.93s of the 289.19s of remaining time.\n",
            "\tEnsemble Weights: {'LightGBM': 1.0}\n",
            "\t0.9238\t = Validation score   (roc_auc)\n",
            "\t0.0s\t = Training   runtime\n",
            "\t0.0s\t = Validation runtime\n",
            "AutoGluon training complete, total runtime = 10.92s ... Best model: WeightedEnsemble_L2 | Estimated inference throughput: 89894.6 rows/s (2000 batch size)\n",
            "TabularPredictor saved. To load, use: predictor = TabularPredictor.load(\"/content/data/AutoGluonModels/ieee_fraud_20251014_181753\")\n"
          ]
        },
        {
          "output_type": "stream",
          "name": "stdout",
          "text": [
            "Adding 38 missing columns to test (showing up to 10): ['id_01', 'id_02', 'id_03', 'id_04', 'id_05', 'id_06', 'id_07', 'id_08', 'id_09', 'id_10'] ...\n",
            "✅ Saved submission: /content/data/AutoGluonModels/ieee_fraud_20251014_181753/submission.csv\n"
          ]
        }
      ],
      "source": [
        "# === FAST MODE (Academic demo): IEEE-CIS Fraud (with test feature alignment + robust proba) ===\n",
        "import os, time, numpy as np, pandas as pd\n",
        "from autogluon.tabular import TabularPredictor\n",
        "\n",
        "COMP_DIR = DATASET\n",
        "N_TRAIN = 20_000    # 20k rows trained for speed\n",
        "TL = 300            # Limit training for demonstration\n",
        "\n",
        "# Load & merge\n",
        "train_id = pd.read_csv(os.path.join(COMP_DIR, \"train_identity.csv\"))\n",
        "train_tx = pd.read_csv(os.path.join(COMP_DIR, \"train_transaction.csv\"))\n",
        "train_full = pd.merge(train_tx, train_id, on=\"TransactionID\", how=\"left\")\n",
        "del train_id, train_tx\n",
        "print(\"Full train shape:\", train_full.shape)\n",
        "\n",
        "# Sample rows for speed\n",
        "train_df = train_full.sample(n=min(N_TRAIN, len(train_full)), random_state=42).reset_index(drop=True)\n",
        "del train_full\n",
        "\n",
        "# Minimal preprocess\n",
        "if \"TransactionID\" in train_df.columns:\n",
        "    train_df.drop(columns=[\"TransactionID\"], inplace=True)\n",
        "obj_cols = train_df.select_dtypes(include=[\"object\"]).columns\n",
        "train_df[obj_cols] = train_df[obj_cols].fillna(\"NA\")          # strings\n",
        "num_cols = [c for c in train_df.select_dtypes(include=[\"number\"]).columns if c != \"isFraud\"]\n",
        "train_df[num_cols] = train_df[num_cols].fillna(-999)          # numerics\n",
        "train_df[\"isFraud\"] = train_df[\"isFraud\"].astype(\"int8\")\n",
        "\n",
        "# Fastest hyperparameters: LightGBM only\n",
        "hyperparameters = {\n",
        "    \"GBM\": [{\"num_boost_round\": 300, \"learning_rate\": 0.1, \"num_leaves\": 31, \"min_data_in_leaf\": 200}],\n",
        "    \"CAT\": [], \"XGB\": [], \"RF\": [], \"XT\": [], \"NN_TORCH\": []\n",
        "}\n",
        "\n",
        "# --- Use a fresh, unique run folder to avoid \"path already exists\" warning ---\n",
        "BASE_PATH = AUTOGLUON_SAVE_PATH\n",
        "os.makedirs(BASE_PATH, exist_ok=True)\n",
        "RUN_NAME = f\"ieee_fraud_{time.strftime('%Y%m%d_%H%M%S')}\"\n",
        "MODEL_PATH = os.path.join(BASE_PATH, RUN_NAME)\n",
        "\n",
        "predictor = TabularPredictor(\n",
        "    label=\"isFraud\",\n",
        "    eval_metric=\"roc_auc\",\n",
        "    path=MODEL_PATH,\n",
        "    verbosity=2\n",
        ").fit(\n",
        "    train_data=train_df,\n",
        "    hyperparameters=hyperparameters,\n",
        "    presets=None,\n",
        "    time_limit=TL,\n",
        "    num_bag_folds=0,\n",
        "    num_stack_levels=0,\n",
        "    keep_only_best=True,\n",
        ")\n",
        "\n",
        "# Predict on FULL test & write submission\n",
        "test_id = pd.read_csv(os.path.join(COMP_DIR, \"test_identity.csv\"))\n",
        "test_tx = pd.read_csv(os.path.join(COMP_DIR, \"test_transaction.csv\"))\n",
        "test_df = pd.merge(test_tx, test_id, on=\"TransactionID\", how=\"left\")\n",
        "del test_id, test_tx\n",
        "\n",
        "if \"TransactionID\" in test_df.columns:\n",
        "    test_df.drop(columns=[\"TransactionID\"], inplace=True)\n",
        "\n",
        "# --- Align test columns to trained features ---\n",
        "required_feats = predictor.features()\n",
        "missing = [c for c in required_feats if c not in test_df.columns]\n",
        "if missing:\n",
        "    print(f\"Adding {len(missing)} missing columns to test (showing up to 10): {missing[:10]}{' ...' if len(missing)>10 else ''}\")\n",
        "    for c in missing:\n",
        "        test_df[c] = np.nan\n",
        "\n",
        "# Keep ONLY required features (drops extras, fixes order)\n",
        "test_df = test_df[required_feats]\n",
        "\n",
        "# Fast fills (match train policy)\n",
        "obj_cols_t = test_df.select_dtypes(include=[\"object\"]).columns\n",
        "num_cols_t = test_df.select_dtypes(include=[\"number\"]).columns\n",
        "if len(obj_cols_t):\n",
        "    test_df[obj_cols_t] = test_df[obj_cols_t].fillna(\"NA\")\n",
        "if len(num_cols_t):\n",
        "    test_df[num_cols_t] = test_df[num_cols_t].fillna(-999)\n",
        "\n",
        "# --- Robust predict_proba handling (Series vs DataFrame) ---\n",
        "proba = predictor.predict_proba(test_df)\n",
        "if isinstance(proba, pd.Series):\n",
        "    preds = proba.values\n",
        "else:\n",
        "    if 1 in proba.columns:\n",
        "        preds = proba[1].values\n",
        "    elif \"1\" in proba.columns:\n",
        "        preds = proba[\"1\"].values\n",
        "    else:\n",
        "        preds = proba.iloc[:, -1].values\n",
        "\n",
        "# Save submission next to the model for traceability\n",
        "sub = pd.read_csv(os.path.join(COMP_DIR, \"sample_submission.csv\"))\n",
        "sub[\"isFraud\"] = preds\n",
        "out_path = os.path.join(MODEL_PATH, \"submission.csv\")\n",
        "sub.to_csv(out_path, index=False)\n",
        "print(\"✅ Saved submission:\", out_path)"
      ]
    },
    {
      "cell_type": "markdown",
      "source": [
        "### 🚀 Submit to Kaggle\n",
        "This cell submits the saved `submission.csv` to the **ieee-fraud-detection** competition using the Kaggle CLI.  \n",
        "It lists the file, sends the submission, and prints recent submissions for confirmation."
      ],
      "metadata": {
        "id": "nwMNLjZ3nE09"
      }
    },
    {
      "cell_type": "code",
      "source": [
        "# === Submit to Kaggle competition ===\n",
        "import os\n",
        "\n",
        "COMPETITION = \"ieee-fraud-detection\"\n",
        "SUBMISSION_FILE = os.path.join(AUTOGLUON_SAVE_PATH, \"submission.csv\")\n",
        "MESSAGE = \"AutoGluon fast academic demo submission\"\n",
        "\n",
        "# Verify the submission file exists\n",
        "!ls -lh \"$SUBMISSION_FILE\"\n",
        "\n",
        "# Submit to Kaggle\n",
        "!kaggle competitions submit -c \"$COMPETITION\" -f \"$SUBMISSION_FILE\" -m \"$MESSAGE\"\n",
        "\n",
        "# Show recent submissions for confirmation\n",
        "!kaggle competitions submissions -c \"$COMPETITION\" | head -n 20"
      ],
      "metadata": {
        "colab": {
          "base_uri": "https://localhost:8080/"
        },
        "id": "D-z4cdBOavft",
        "outputId": "6b621261-e84a-40bd-c8b8-6cc9fed0545d"
      },
      "execution_count": 3,
      "outputs": [
        {
          "output_type": "stream",
          "name": "stdout",
          "text": [
            "-rw-r--r-- 1 root root 15M Oct 14 18:05 /content/data/AutoGluonModels/submission.csv\n",
            "100% 14.2M/14.2M [00:00<00:00, 21.4MB/s]\n",
            "Successfully submitted to IEEE-CIS Fraud DetectionfileName        date                        description                              status                     publicScore  privateScore  \n",
            "--------------  --------------------------  ---------------------------------------  -------------------------  -----------  ------------  \n",
            "submission.csv  2025-10-14 18:18:47.153000  AutoGluon fast academic demo submission  SubmissionStatus.PENDING                              \n",
            "submission.csv  2025-10-14 18:13:15.017000  AutoGluon fast academic demo submission  SubmissionStatus.COMPLETE  0.892597     0.877589      \n",
            "submission.csv  2025-10-14 18:05:36.010000  AutoGluon fast academic demo submission  SubmissionStatus.COMPLETE  0.892597     0.877589      \n",
            "submission.csv  2025-10-14 17:55:41.007000  AutoGluon fast academic demo submission  SubmissionStatus.COMPLETE  0.892597     0.877589      \n",
            "submission.csv  2025-10-14 17:47:16.990000  AutoGluon fast academic demo submission  SubmissionStatus.COMPLETE  0.892597     0.877589      \n",
            "submission.csv  2025-10-14 15:51:09.973000  AutoGluon fast academic demo submission  SubmissionStatus.COMPLETE  0.892597     0.877589      \n"
          ]
        }
      ]
    }
  ],
  "metadata": {
    "colab": {
      "machine_shape": "hm",
      "provenance": []
    },
    "kernelspec": {
      "display_name": "Python 3",
      "name": "python3"
    },
    "language_info": {
      "name": "python"
    }
  },
  "nbformat": 4,
  "nbformat_minor": 0
}