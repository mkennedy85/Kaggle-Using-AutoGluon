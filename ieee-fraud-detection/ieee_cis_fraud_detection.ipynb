{
  "cells": [
    {
      "cell_type": "markdown",
      "source": [
        "### 📦 Setup: Kaggle + AutoGluon Environment\n",
        "This first cell authenticates Kaggle using my `kaggle.json`, installs the slim `autogluon.tabular` package, and downloads the **IEEE-CIS Fraud Detection** dataset.  \n",
        "It extracts the data into `/content/data/ieee-fraud-detection` and prepares a save path for AutoGluon models."
      ],
      "metadata": {
        "id": "6AnDU_C-m9Ew"
      }
    },
    {
      "cell_type": "code",
      "execution_count": 1,
      "metadata": {
        "colab": {
          "base_uri": "https://localhost:8080/"
        },
        "id": "MsopWGGbZrSI",
        "outputId": "159046e0-e684-4230-acbe-210918a9a9b5"
      },
      "outputs": [
        {
          "output_type": "stream",
          "name": "stdout",
          "text": [
            "Competition: ieee-fraud-detection\n",
            "DATA_DIR: /content/data\n",
            "AUTOGLUON_SAVE_PATH: /content/data/AutoGluonModels\n",
            "Mounted at /content/drive\n",
            "Downloading ieee-fraud-detection.zip to /content/data\n",
            "  0% 0.00/118M [00:00<?, ?B/s]\n",
            "100% 118M/118M [00:00<00:00, 2.07GB/s]\n",
            "total 1.3G\n",
            "-rw-r--r-- 1 root root 5.8M Dec 11  2019 sample_submission.csv\n",
            "-rw-r--r-- 1 root root  25M Dec 11  2019 test_identity.csv\n",
            "-rw-r--r-- 1 root root 585M Dec 11  2019 test_transaction.csv\n",
            "-rw-r--r-- 1 root root  26M Dec 11  2019 train_identity.csv\n",
            "-rw-r--r-- 1 root root 652M Dec 11  2019 train_transaction.csv\n"
          ]
        }
      ],
      "source": [
        "# --- Colab setup: Kaggle competition + AutoGluon Tabular ---\n",
        "import os\n",
        "\n",
        "# ---- CONFIG ----\n",
        "KAGGLE_COMPETITION = \"ieee-fraud-detection\"\n",
        "DATA_DIR = \"/content/data\"\n",
        "DATASET = os.path.join(DATA_DIR, KAGGLE_COMPETITION)\n",
        "AUTOGLUON_SAVE_PATH = os.path.join(DATA_DIR, \"AutoGluonModels\")\n",
        "\n",
        "print(\"Competition:\", KAGGLE_COMPETITION)\n",
        "print(\"DATA_DIR:\", DATA_DIR)\n",
        "print(\"AUTOGLUON_SAVE_PATH:\", AUTOGLUON_SAVE_PATH)\n",
        "\n",
        "# ---- Install slim AutoGluon + Kaggle CLI ----\n",
        "!pip install -q kaggle autogluon.tabular scikit-learn\n",
        "\n",
        "# ---- Kaggle auth (assumes kaggle.json exists in Google Drive) ----\n",
        "from google.colab import drive\n",
        "drive.mount('/content/drive', force_remount=True)\n",
        "\n",
        "!mkdir -p ~/.kaggle\n",
        "!cp /content/drive/MyDrive/kaggle.json ~/.kaggle/\n",
        "!chmod 600 ~/.kaggle/kaggle.json\n",
        "\n",
        "# ---- Download + extract competition files ----\n",
        "!mkdir -p \"{DATA_DIR}\" \"{AUTOGLUON_SAVE_PATH}\"\n",
        "!kaggle competitions download -c \"{KAGGLE_COMPETITION}\" -p \"{DATA_DIR}\" --force\n",
        "!unzip -o -q \"{DATA_DIR}/{KAGGLE_COMPETITION}.zip\" -d \"{DATA_DIR}/{KAGGLE_COMPETITION}\"\n",
        "!rm -f \"{DATA_DIR}/{KAGGLE_COMPETITION}.zip\"\n",
        "!ls -lh \"{DATA_DIR}/{KAGGLE_COMPETITION}\""
      ]
    },
    {
      "cell_type": "markdown",
      "source": [
        "### ⚡ Fast Training on 20 K Sample with Feature Alignment\n",
        "Here I merge the `train_transaction` and `train_identity` files, sample **20 000 rows** for quick runtime, and apply minimal preprocessing: drop `TransactionID`, fill missing objects with `\"NA\"` and numbers with `-999`, and cast `isFraud` to int.  \n",
        "AutoGluon trains a **single LightGBM model** with a short time limit.  \n",
        "Before prediction, I align the test dataset to the model’s exact feature set—adding any missing columns like `id_01`–`id_38`—so inference runs smoothly.  \n",
        "The notebook then writes predictions to `submission.csv`."
      ],
      "metadata": {
        "id": "Kbr61IXqnA5q"
      }
    },
    {
      "cell_type": "code",
      "execution_count": 2,
      "metadata": {
        "colab": {
          "base_uri": "https://localhost:8080/"
        },
        "id": "a_qysFqh-Lvw",
        "outputId": "33b8faa6-eec8-4972-e722-eeed96ca7020"
      },
      "outputs": [
        {
          "output_type": "stream",
          "name": "stdout",
          "text": [
            "Full train shape: (590540, 434)\n"
          ]
        },
        {
          "output_type": "stream",
          "name": "stderr",
          "text": [
            "Verbosity: 2 (Standard Logging)\n",
            "=================== System Info ===================\n",
            "AutoGluon Version:  1.4.0\n",
            "Python Version:     3.12.12\n",
            "Operating System:   Linux\n",
            "Platform Machine:   x86_64\n",
            "Platform Version:   #1 SMP Thu Oct  2 10:42:05 UTC 2025\n",
            "CPU Count:          8\n",
            "Memory Avail:       47.38 GB / 50.99 GB (92.9%)\n",
            "Disk Space Avail:   184.98 GB / 225.83 GB (81.9%)\n",
            "===================================================\n",
            "Presets specified: ['medium_quality']\n"
          ]
        },
        {
          "output_type": "stream",
          "name": "stdout",
          "text": [
            "Train: (16200, 433), Dev: (1800, 433), Holdout: (2000, 433)\n"
          ]
        },
        {
          "output_type": "stream",
          "name": "stderr",
          "text": [
            "Beginning AutoGluon training ... Time limit = 300s\n",
            "AutoGluon will save models to \"/content/data/AutoGluonModels/ieee_fraud_20251015_000521\"\n",
            "Train Data Rows:    16200\n",
            "Train Data Columns: 432\n",
            "Tuning Data Rows:    1800\n",
            "Tuning Data Columns: 432\n",
            "Label Column:       isFraud\n",
            "AutoGluon infers your prediction problem is: 'binary' (because only two unique label-values observed).\n",
            "\t2 unique label values:  [np.int8(0), np.int8(1)]\n",
            "\tIf 'binary' is not the correct problem_type, please manually specify the problem_type parameter during Predictor init (You may specify problem_type as one of: ['binary', 'multiclass', 'regression', 'quantile'])\n",
            "Problem Type:       binary\n",
            "Preprocessing data ...\n",
            "Selected class <--> label mapping:  class 1 = 1, class 0 = 0\n",
            "Using Feature Generators to preprocess the data ...\n",
            "Fitting AutoMLPipelineFeatureGenerator...\n",
            "\tAvailable Memory:                    48603.09 MB\n",
            "\tTrain Data (Original)  Memory Usage: 82.61 MB (0.2% of available memory)\n",
            "\tInferring data type of each feature based on column values. Set feature_metadata_in to manually specify special dtypes of the features.\n",
            "\tStage 1 Generators:\n",
            "\t\tFitting AsTypeFeatureGenerator...\n",
            "\t\t\tNote: Converting 1 features to boolean dtype as they only contain 2 unique values.\n",
            "\tStage 2 Generators:\n",
            "\t\tFitting FillNaFeatureGenerator...\n",
            "\tStage 3 Generators:\n",
            "\t\tFitting IdentityFeatureGenerator...\n",
            "\t\tFitting CategoryFeatureGenerator...\n",
            "\t\t\tFitting CategoryMemoryMinimizeFeatureGenerator...\n",
            "\tStage 4 Generators:\n",
            "\t\tFitting DropUniqueFeatureGenerator...\n",
            "\tStage 5 Generators:\n",
            "\t\tFitting DropDuplicatesFeatureGenerator...\n",
            "\tUseless Original Features (Count: 1): ['V305']\n",
            "\t\tThese features carry no predictive signal and should be manually investigated.\n",
            "\t\tThis is typically a feature which has the same value for all rows.\n",
            "\t\tThese features do not need to be present at inference time.\n",
            "\tUnused Original Features (Count: 2): ['V28', 'V241']\n",
            "\t\tThese features were not used to generate any of the output features. Add a feature generator compatible with these features to utilize them.\n",
            "\t\tFeatures can also be unused if they carry very little information, such as being categorical but having almost entirely unique values or being duplicates of other features.\n",
            "\t\tThese features do not need to be present at inference time.\n",
            "\t\t('float', []) : 2 | ['V28', 'V241']\n",
            "\tTypes of features in original data (raw dtype, special dtypes):\n",
            "\t\t('float', [])  : 396 | ['TransactionAmt', 'card2', 'card3', 'card5', 'addr1', ...]\n",
            "\t\t('int', [])    :   2 | ['TransactionDT', 'card1']\n",
            "\t\t('object', []) :  31 | ['ProductCD', 'card4', 'card6', 'P_emaildomain', 'R_emaildomain', ...]\n",
            "\tTypes of features in processed data (raw dtype, special dtypes):\n",
            "\t\t('category', [])  :  31 | ['ProductCD', 'card4', 'card6', 'P_emaildomain', 'R_emaildomain', ...]\n",
            "\t\t('float', [])     : 395 | ['TransactionAmt', 'card2', 'card3', 'card5', 'addr1', ...]\n",
            "\t\t('int', [])       :   2 | ['TransactionDT', 'card1']\n",
            "\t\t('int', ['bool']) :   1 | ['V1']\n",
            "\t2.5s = Fit runtime\n",
            "\t429 features in original data used to generate 429 features in processed data.\n",
            "\tTrain Data (Processed) Memory Usage: 55.10 MB (0.1% of available memory)\n",
            "Data preprocessing and feature engineering runtime = 2.69s ...\n",
            "AutoGluon will gauge predictive performance using evaluation metric: 'roc_auc'\n",
            "\tThis metric expects predicted probabilities rather than predicted class labels, so you'll need to use predict_proba() instead of predict()\n",
            "\tTo change this, specify the eval_metric parameter of Predictor()\n",
            "User-specified model hyperparameters to be fit:\n",
            "{\n",
            "\t'GBM': [{'num_boost_round': 300, 'learning_rate': 0.1, 'num_leaves': 31, 'min_data_in_leaf': 200}],\n",
            "\t'CAT': [],\n",
            "\t'XGB': [],\n",
            "\t'RF': [],\n",
            "\t'XT': [],\n",
            "\t'NN_TORCH': [],\n",
            "}\n",
            "Fitting 1 L1 models, fit_strategy=\"sequential\" ...\n",
            "Fitting model: LightGBM ... Training model for up to 297.31s of the 297.31s of remaining time.\n",
            "\tFitting with cpus=4, gpus=0, mem=0.3/47.3 GB\n",
            "\t0.9166\t = Validation score   (roc_auc)\n",
            "\t5.37s\t = Training   runtime\n",
            "\t0.02s\t = Validation runtime\n",
            "Fitting model: WeightedEnsemble_L2 ... Training model for up to 297.31s of the 291.90s of remaining time.\n",
            "\tEnsemble Weights: {'LightGBM': 1.0}\n",
            "\t0.9166\t = Validation score   (roc_auc)\n",
            "\t0.0s\t = Training   runtime\n",
            "\t0.0s\t = Validation runtime\n",
            "AutoGluon training complete, total runtime = 8.15s ... Best model: WeightedEnsemble_L2 | Estimated inference throughput: 86159.7 rows/s (1800 batch size)\n",
            "TabularPredictor saved. To load, use: predictor = TabularPredictor.load(\"/content/data/AutoGluonModels/ieee_fraud_20251015_000521\")\n"
          ]
        },
        {
          "output_type": "stream",
          "name": "stdout",
          "text": [
            "Holdout metrics: {'roc_auc': np.float64(0.8423615826634248), 'accuracy': 0.9755, 'balanced_accuracy': np.float64(0.6752787330514971), 'mcc': np.float64(0.5521054551586371), 'f1': 0.5050505050505051, 'precision': 0.8928571428571429, 'recall': 0.352112676056338}\n",
            "Adding 38 missing columns to test (showing up to 10): ['id_01', 'id_02', 'id_03', 'id_04', 'id_05', 'id_06', 'id_07', 'id_08', 'id_09', 'id_10'] ...\n",
            "✅ Saved submission: /content/data/AutoGluonModels/ieee_fraud_20251015_000521/submission.csv\n"
          ]
        }
      ],
      "source": [
        "# === FAST MODE (Academic demo): IEEE-CIS Fraud — seed + dev/holdout + feature alignment ===\n",
        "import os, time, random, numpy as np, pandas as pd\n",
        "from sklearn.model_selection import train_test_split\n",
        "from autogluon.tabular import TabularPredictor\n",
        "\n",
        "# ---- Reproducibility ----\n",
        "SEED = 42\n",
        "np.random.seed(SEED)\n",
        "random.seed(SEED)\n",
        "\n",
        "COMP_DIR = DATASET\n",
        "N_TRAIN = 20_000     # 20k rows trained for speed\n",
        "TL = 300             # limit training for demonstration\n",
        "\n",
        "# Load & merge\n",
        "train_id = pd.read_csv(os.path.join(COMP_DIR, \"train_identity.csv\"))\n",
        "train_tx = pd.read_csv(os.path.join(COMP_DIR, \"train_transaction.csv\"))\n",
        "train_full = pd.merge(train_tx, train_id, on=\"TransactionID\", how=\"left\")\n",
        "del train_id, train_tx\n",
        "print(\"Full train shape:\", train_full.shape)\n",
        "\n",
        "# Sample rows for speed (deterministic via SEED)\n",
        "train_df = train_full.sample(n=min(N_TRAIN, len(train_full)), random_state=SEED).reset_index(drop=True)\n",
        "del train_full\n",
        "\n",
        "# Minimal preprocess\n",
        "if \"TransactionID\" in train_df.columns:\n",
        "    train_df.drop(columns=[\"TransactionID\"], inplace=True)\n",
        "obj_cols = train_df.select_dtypes(include=[\"object\"]).columns\n",
        "train_df[obj_cols] = train_df[obj_cols].fillna(\"NA\")           # strings\n",
        "num_cols = [c for c in train_df.select_dtypes(include=[\"number\"]).columns if c != \"isFraud\"]\n",
        "train_df[num_cols] = train_df[num_cols].fillna(-999)           # numerics\n",
        "train_df[\"isFraud\"] = train_df[\"isFraud\"].astype(\"int8\")\n",
        "\n",
        "# ---- Explicit splits: dev (for tuning) and holdout (never seen in training) ----\n",
        "# 10% holdout, then 10% dev from remaining 90%\n",
        "train_full_split, holdout = train_test_split(train_df, test_size=0.10, random_state=SEED, stratify=train_df[\"isFraud\"])\n",
        "train_split, dev_split    = train_test_split(train_full_split, test_size=0.10, random_state=SEED, stratify=train_full_split[\"isFraud\"])\n",
        "print(f\"Train: {train_split.shape}, Dev: {dev_split.shape}, Holdout: {holdout.shape}\")\n",
        "\n",
        "# Fastest hyperparameters: LightGBM only\n",
        "hyperparameters = {\n",
        "    \"GBM\": [{\"num_boost_round\": 300, \"learning_rate\": 0.1, \"num_leaves\": 31, \"min_data_in_leaf\": 200}],\n",
        "    \"CAT\": [], \"XGB\": [], \"RF\": [], \"XT\": [], \"NN_TORCH\": []\n",
        "}\n",
        "\n",
        "# Fresh, unique run folder avoids \"path already exists\" warnings\n",
        "BASE_PATH = AUTOGLUON_SAVE_PATH\n",
        "os.makedirs(BASE_PATH, exist_ok=True)\n",
        "RUN_NAME = f\"ieee_fraud_{time.strftime('%Y%m%d_%H%M%S')}\"\n",
        "MODEL_PATH = os.path.join(BASE_PATH, RUN_NAME)\n",
        "\n",
        "predictor = TabularPredictor(\n",
        "    label=\"isFraud\",\n",
        "    eval_metric=\"roc_auc\",\n",
        "    path=MODEL_PATH,\n",
        "    verbosity=2\n",
        ")\n",
        "\n",
        "predictor.fit(\n",
        "    train_data=train_split,\n",
        "    tuning_data=dev_split,\n",
        "    hyperparameters=hyperparameters,\n",
        "    presets=\"medium_quality\",\n",
        "    time_limit=TL,\n",
        "    num_bag_folds=0,\n",
        "    num_stack_levels=0,\n",
        "    keep_only_best=True,\n",
        ")\n",
        "\n",
        "# ---- Evaluate on truly unseen holdout ----\n",
        "holdout_metrics = predictor.evaluate(holdout)\n",
        "print(\"Holdout metrics:\", holdout_metrics)\n",
        "\n",
        "# ===== Inference on FULL test & submission =====\n",
        "test_id = pd.read_csv(os.path.join(COMP_DIR, \"test_identity.csv\"))\n",
        "test_tx = pd.read_csv(os.path.join(COMP_DIR, \"test_transaction.csv\"))\n",
        "test_df = pd.merge(test_tx, test_id, on=\"TransactionID\", how=\"left\")\n",
        "del test_id, test_tx\n",
        "\n",
        "if \"TransactionID\" in test_df.columns:\n",
        "    test_df.drop(columns=[\"TransactionID\"], inplace=True)\n",
        "\n",
        "# Align test columns to trained features (add missing, keep order)\n",
        "required_feats = predictor.features()\n",
        "missing = [c for c in required_feats if c not in test_df.columns]\n",
        "if missing:\n",
        "    print(f\"Adding {len(missing)} missing columns to test (showing up to 10): {missing[:10]}{' ...' if len(missing)>10 else ''}\")\n",
        "    for c in missing:\n",
        "        test_df[c] = np.nan\n",
        "test_df = test_df[required_feats]\n",
        "\n",
        "# Match train-time fills\n",
        "obj_cols_t = test_df.select_dtypes(include=[\"object\"]).columns\n",
        "num_cols_t = test_df.select_dtypes(include=[\"number\"]).columns\n",
        "if len(obj_cols_t): test_df[obj_cols_t] = test_df[obj_cols_t].fillna(\"NA\")\n",
        "if len(num_cols_t): test_df[num_cols_t] = test_df[num_cols_t].fillna(-999)\n",
        "\n",
        "# Robust predict_proba handling (Series vs DataFrame)\n",
        "proba = predictor.predict_proba(test_df)\n",
        "if isinstance(proba, pd.Series):\n",
        "    preds = proba.values\n",
        "else:\n",
        "    if 1 in proba.columns:      preds = proba[1].values\n",
        "    elif \"1\" in proba.columns:  preds = proba[\"1\"].values\n",
        "    else:                       preds = proba.iloc[:, -1].values\n",
        "\n",
        "# Save submission next to the model for traceability\n",
        "sub = pd.read_csv(os.path.join(COMP_DIR, \"sample_submission.csv\"))\n",
        "sub[\"isFraud\"] = preds\n",
        "out_path = os.path.join(MODEL_PATH, \"submission.csv\")\n",
        "sub.to_csv(out_path, index=False)\n",
        "print(\"✅ Saved submission:\", out_path)"
      ]
    },
    {
      "cell_type": "markdown",
      "source": [
        "### 🚀 Submit to Kaggle\n",
        "This cell submits the saved `submission.csv` to the **ieee-fraud-detection** competition using the Kaggle CLI.  \n",
        "It lists the file, sends the submission, and prints recent submissions for confirmation."
      ],
      "metadata": {
        "id": "nwMNLjZ3nE09"
      }
    },
    {
      "cell_type": "code",
      "source": [
        "# === Submit latest run to Kaggle (IEEE Fraud Detection) ===\n",
        "import glob, os\n",
        "\n",
        "COMPETITION = \"ieee-fraud-detection\"\n",
        "MESSAGE = \"AutoGluon fast academic demo submission\"\n",
        "\n",
        "# Find the most recent subfolder with a submission.csv\n",
        "submission_candidates = sorted(\n",
        "    glob.glob(os.path.join(AUTOGLUON_SAVE_PATH, \"*/submission.csv\")),\n",
        "    key=os.path.getmtime,\n",
        "    reverse=True\n",
        ")\n",
        "\n",
        "if not submission_candidates:\n",
        "    raise FileNotFoundError(\"No submission.csv found in any run folder under AutoGluonModels.\")\n",
        "\n",
        "SUBMISSION_FILE = submission_candidates[0]\n",
        "print(\"Using submission file:\", SUBMISSION_FILE)\n",
        "\n",
        "!kaggle competitions submit -c \"$COMPETITION\" -f \"$SUBMISSION_FILE\" -m \"$MESSAGE\"\n",
        "\n",
        "!kaggle competitions submissions -c \"$COMPETITION\" | head -n 20"
      ],
      "metadata": {
        "colab": {
          "base_uri": "https://localhost:8080/"
        },
        "id": "D-z4cdBOavft",
        "outputId": "2db7b80e-ebb5-482b-dd42-9082561ccefd"
      },
      "execution_count": 4,
      "outputs": [
        {
          "output_type": "stream",
          "name": "stdout",
          "text": [
            "Using submission file: /content/data/AutoGluonModels/ieee_fraud_20251015_000521/submission.csv\n",
            "100% 14.1M/14.1M [00:01<00:00, 8.60MB/s]\n",
            "Successfully submitted to IEEE-CIS Fraud DetectionfileName        date                        description                              status                     publicScore  privateScore  \n",
            "--------------  --------------------------  ---------------------------------------  -------------------------  -----------  ------------  \n",
            "submission.csv  2025-10-15 00:12:35.473000  AutoGluon fast academic demo submission  SubmissionStatus.PENDING                              \n",
            "submission.csv  2025-10-15 00:05:54.303000  AutoGluon fast academic demo submission  SubmissionStatus.COMPLETE  0.883259     0.876290      \n",
            "submission.csv  2025-10-14 18:50:20.377000  AutoGluon fast academic demo submission  SubmissionStatus.COMPLETE  0.892597     0.877589      \n",
            "submission.csv  2025-10-14 18:42:52.427000  AutoGluon fast academic demo submission  SubmissionStatus.COMPLETE  0.892597     0.877589      \n",
            "submission.csv  2025-10-14 18:35:24.393000  AutoGluon fast academic demo submission  SubmissionStatus.COMPLETE  0.892597     0.877589      \n",
            "submission.csv  2025-10-14 18:18:47.153000  AutoGluon fast academic demo submission  SubmissionStatus.COMPLETE  0.892597     0.877589      \n",
            "submission.csv  2025-10-14 18:13:15.017000  AutoGluon fast academic demo submission  SubmissionStatus.COMPLETE  0.892597     0.877589      \n",
            "submission.csv  2025-10-14 18:05:36.010000  AutoGluon fast academic demo submission  SubmissionStatus.COMPLETE  0.892597     0.877589      \n",
            "submission.csv  2025-10-14 17:55:41.007000  AutoGluon fast academic demo submission  SubmissionStatus.COMPLETE  0.892597     0.877589      \n",
            "submission.csv  2025-10-14 17:47:16.990000  AutoGluon fast academic demo submission  SubmissionStatus.COMPLETE  0.892597     0.877589      \n",
            "submission.csv  2025-10-14 15:51:09.973000  AutoGluon fast academic demo submission  SubmissionStatus.COMPLETE  0.892597     0.877589      \n"
          ]
        }
      ]
    }
  ],
  "metadata": {
    "colab": {
      "machine_shape": "hm",
      "provenance": []
    },
    "kernelspec": {
      "display_name": "Python 3",
      "name": "python3"
    },
    "language_info": {
      "name": "python"
    }
  },
  "nbformat": 4,
  "nbformat_minor": 0
}